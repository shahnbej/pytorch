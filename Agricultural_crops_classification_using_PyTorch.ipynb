{
  "metadata": {
    "kernelspec": {
      "display_name": "Python 3",
      "name": "python3"
    },
    "language_info": {
      "name": "python",
      "version": "3.10.13",
      "mimetype": "text/x-python",
      "codemirror_mode": {
        "name": "ipython",
        "version": 3
      },
      "pygments_lexer": "ipython3",
      "nbconvert_exporter": "python",
      "file_extension": ".py"
    },
    "kaggle": {
      "accelerator": "nvidiaTeslaT4",
      "dataSources": [
        {
          "sourceId": 4122124,
          "sourceType": "datasetVersion",
          "datasetId": 2436336
        }
      ],
      "dockerImageVersionId": 30733,
      "isInternetEnabled": true,
      "language": "python",
      "sourceType": "notebook",
      "isGpuEnabled": true
    },
    "colab": {
      "name": "Agricultural crops classification using PyTorch",
      "provenance": [],
      "gpuType": "T4",
      "include_colab_link": true
    },
    "accelerator": "GPU",
    "widgets": {
      "application/vnd.jupyter.widget-state+json": {
        "1f98005c92e641fdb43ff358435ae0d4": {
          "model_module": "@jupyter-widgets/controls",
          "model_name": "HBoxModel",
          "model_module_version": "1.5.0",
          "state": {
            "_dom_classes": [],
            "_model_module": "@jupyter-widgets/controls",
            "_model_module_version": "1.5.0",
            "_model_name": "HBoxModel",
            "_view_count": null,
            "_view_module": "@jupyter-widgets/controls",
            "_view_module_version": "1.5.0",
            "_view_name": "HBoxView",
            "box_style": "",
            "children": [
              "IPY_MODEL_dab7a593da20464e8305ad2ad5bdf960",
              "IPY_MODEL_2f1ad21d09f54f08bee0609180cdccee",
              "IPY_MODEL_bd1c9853c3274247b12828953e1ba712"
            ],
            "layout": "IPY_MODEL_9400fa8725b746bb944a10a0bb0cb55f"
          }
        },
        "dab7a593da20464e8305ad2ad5bdf960": {
          "model_module": "@jupyter-widgets/controls",
          "model_name": "HTMLModel",
          "model_module_version": "1.5.0",
          "state": {
            "_dom_classes": [],
            "_model_module": "@jupyter-widgets/controls",
            "_model_module_version": "1.5.0",
            "_model_name": "HTMLModel",
            "_view_count": null,
            "_view_module": "@jupyter-widgets/controls",
            "_view_module_version": "1.5.0",
            "_view_name": "HTMLView",
            "description": "",
            "description_tooltip": null,
            "layout": "IPY_MODEL_e106c5b440a7458688a56e3decad0b66",
            "placeholder": "​",
            "style": "IPY_MODEL_855477eeb154436baca5a6ab5a43a121",
            "value": "100%"
          }
        },
        "2f1ad21d09f54f08bee0609180cdccee": {
          "model_module": "@jupyter-widgets/controls",
          "model_name": "FloatProgressModel",
          "model_module_version": "1.5.0",
          "state": {
            "_dom_classes": [],
            "_model_module": "@jupyter-widgets/controls",
            "_model_module_version": "1.5.0",
            "_model_name": "FloatProgressModel",
            "_view_count": null,
            "_view_module": "@jupyter-widgets/controls",
            "_view_module_version": "1.5.0",
            "_view_name": "ProgressView",
            "bar_style": "success",
            "description": "",
            "description_tooltip": null,
            "layout": "IPY_MODEL_734f09b6a5614b57b59ad584879c983e",
            "max": 12,
            "min": 0,
            "orientation": "horizontal",
            "style": "IPY_MODEL_ec02eb58ada042ffac2dc52a8212dd59",
            "value": 12
          }
        },
        "bd1c9853c3274247b12828953e1ba712": {
          "model_module": "@jupyter-widgets/controls",
          "model_name": "HTMLModel",
          "model_module_version": "1.5.0",
          "state": {
            "_dom_classes": [],
            "_model_module": "@jupyter-widgets/controls",
            "_model_module_version": "1.5.0",
            "_model_name": "HTMLModel",
            "_view_count": null,
            "_view_module": "@jupyter-widgets/controls",
            "_view_module_version": "1.5.0",
            "_view_name": "HTMLView",
            "description": "",
            "description_tooltip": null,
            "layout": "IPY_MODEL_44094603d86444d6b58bac98d479eacb",
            "placeholder": "​",
            "style": "IPY_MODEL_16150ee542584f3d8daa630875b30a81",
            "value": " 12/12 [02:29&lt;00:00, 11.65s/it]"
          }
        },
        "9400fa8725b746bb944a10a0bb0cb55f": {
          "model_module": "@jupyter-widgets/base",
          "model_name": "LayoutModel",
          "model_module_version": "1.2.0",
          "state": {
            "_model_module": "@jupyter-widgets/base",
            "_model_module_version": "1.2.0",
            "_model_name": "LayoutModel",
            "_view_count": null,
            "_view_module": "@jupyter-widgets/base",
            "_view_module_version": "1.2.0",
            "_view_name": "LayoutView",
            "align_content": null,
            "align_items": null,
            "align_self": null,
            "border": null,
            "bottom": null,
            "display": null,
            "flex": null,
            "flex_flow": null,
            "grid_area": null,
            "grid_auto_columns": null,
            "grid_auto_flow": null,
            "grid_auto_rows": null,
            "grid_column": null,
            "grid_gap": null,
            "grid_row": null,
            "grid_template_areas": null,
            "grid_template_columns": null,
            "grid_template_rows": null,
            "height": null,
            "justify_content": null,
            "justify_items": null,
            "left": null,
            "margin": null,
            "max_height": null,
            "max_width": null,
            "min_height": null,
            "min_width": null,
            "object_fit": null,
            "object_position": null,
            "order": null,
            "overflow": null,
            "overflow_x": null,
            "overflow_y": null,
            "padding": null,
            "right": null,
            "top": null,
            "visibility": null,
            "width": null
          }
        },
        "e106c5b440a7458688a56e3decad0b66": {
          "model_module": "@jupyter-widgets/base",
          "model_name": "LayoutModel",
          "model_module_version": "1.2.0",
          "state": {
            "_model_module": "@jupyter-widgets/base",
            "_model_module_version": "1.2.0",
            "_model_name": "LayoutModel",
            "_view_count": null,
            "_view_module": "@jupyter-widgets/base",
            "_view_module_version": "1.2.0",
            "_view_name": "LayoutView",
            "align_content": null,
            "align_items": null,
            "align_self": null,
            "border": null,
            "bottom": null,
            "display": null,
            "flex": null,
            "flex_flow": null,
            "grid_area": null,
            "grid_auto_columns": null,
            "grid_auto_flow": null,
            "grid_auto_rows": null,
            "grid_column": null,
            "grid_gap": null,
            "grid_row": null,
            "grid_template_areas": null,
            "grid_template_columns": null,
            "grid_template_rows": null,
            "height": null,
            "justify_content": null,
            "justify_items": null,
            "left": null,
            "margin": null,
            "max_height": null,
            "max_width": null,
            "min_height": null,
            "min_width": null,
            "object_fit": null,
            "object_position": null,
            "order": null,
            "overflow": null,
            "overflow_x": null,
            "overflow_y": null,
            "padding": null,
            "right": null,
            "top": null,
            "visibility": null,
            "width": null
          }
        },
        "855477eeb154436baca5a6ab5a43a121": {
          "model_module": "@jupyter-widgets/controls",
          "model_name": "DescriptionStyleModel",
          "model_module_version": "1.5.0",
          "state": {
            "_model_module": "@jupyter-widgets/controls",
            "_model_module_version": "1.5.0",
            "_model_name": "DescriptionStyleModel",
            "_view_count": null,
            "_view_module": "@jupyter-widgets/base",
            "_view_module_version": "1.2.0",
            "_view_name": "StyleView",
            "description_width": ""
          }
        },
        "734f09b6a5614b57b59ad584879c983e": {
          "model_module": "@jupyter-widgets/base",
          "model_name": "LayoutModel",
          "model_module_version": "1.2.0",
          "state": {
            "_model_module": "@jupyter-widgets/base",
            "_model_module_version": "1.2.0",
            "_model_name": "LayoutModel",
            "_view_count": null,
            "_view_module": "@jupyter-widgets/base",
            "_view_module_version": "1.2.0",
            "_view_name": "LayoutView",
            "align_content": null,
            "align_items": null,
            "align_self": null,
            "border": null,
            "bottom": null,
            "display": null,
            "flex": null,
            "flex_flow": null,
            "grid_area": null,
            "grid_auto_columns": null,
            "grid_auto_flow": null,
            "grid_auto_rows": null,
            "grid_column": null,
            "grid_gap": null,
            "grid_row": null,
            "grid_template_areas": null,
            "grid_template_columns": null,
            "grid_template_rows": null,
            "height": null,
            "justify_content": null,
            "justify_items": null,
            "left": null,
            "margin": null,
            "max_height": null,
            "max_width": null,
            "min_height": null,
            "min_width": null,
            "object_fit": null,
            "object_position": null,
            "order": null,
            "overflow": null,
            "overflow_x": null,
            "overflow_y": null,
            "padding": null,
            "right": null,
            "top": null,
            "visibility": null,
            "width": null
          }
        },
        "ec02eb58ada042ffac2dc52a8212dd59": {
          "model_module": "@jupyter-widgets/controls",
          "model_name": "ProgressStyleModel",
          "model_module_version": "1.5.0",
          "state": {
            "_model_module": "@jupyter-widgets/controls",
            "_model_module_version": "1.5.0",
            "_model_name": "ProgressStyleModel",
            "_view_count": null,
            "_view_module": "@jupyter-widgets/base",
            "_view_module_version": "1.2.0",
            "_view_name": "StyleView",
            "bar_color": null,
            "description_width": ""
          }
        },
        "44094603d86444d6b58bac98d479eacb": {
          "model_module": "@jupyter-widgets/base",
          "model_name": "LayoutModel",
          "model_module_version": "1.2.0",
          "state": {
            "_model_module": "@jupyter-widgets/base",
            "_model_module_version": "1.2.0",
            "_model_name": "LayoutModel",
            "_view_count": null,
            "_view_module": "@jupyter-widgets/base",
            "_view_module_version": "1.2.0",
            "_view_name": "LayoutView",
            "align_content": null,
            "align_items": null,
            "align_self": null,
            "border": null,
            "bottom": null,
            "display": null,
            "flex": null,
            "flex_flow": null,
            "grid_area": null,
            "grid_auto_columns": null,
            "grid_auto_flow": null,
            "grid_auto_rows": null,
            "grid_column": null,
            "grid_gap": null,
            "grid_row": null,
            "grid_template_areas": null,
            "grid_template_columns": null,
            "grid_template_rows": null,
            "height": null,
            "justify_content": null,
            "justify_items": null,
            "left": null,
            "margin": null,
            "max_height": null,
            "max_width": null,
            "min_height": null,
            "min_width": null,
            "object_fit": null,
            "object_position": null,
            "order": null,
            "overflow": null,
            "overflow_x": null,
            "overflow_y": null,
            "padding": null,
            "right": null,
            "top": null,
            "visibility": null,
            "width": null
          }
        },
        "16150ee542584f3d8daa630875b30a81": {
          "model_module": "@jupyter-widgets/controls",
          "model_name": "DescriptionStyleModel",
          "model_module_version": "1.5.0",
          "state": {
            "_model_module": "@jupyter-widgets/controls",
            "_model_module_version": "1.5.0",
            "_model_name": "DescriptionStyleModel",
            "_view_count": null,
            "_view_module": "@jupyter-widgets/base",
            "_view_module_version": "1.2.0",
            "_view_name": "StyleView",
            "description_width": ""
          }
        },
        "27d6485572924983aab249471894f83a": {
          "model_module": "@jupyter-widgets/controls",
          "model_name": "HBoxModel",
          "model_module_version": "1.5.0",
          "state": {
            "_dom_classes": [],
            "_model_module": "@jupyter-widgets/controls",
            "_model_module_version": "1.5.0",
            "_model_name": "HBoxModel",
            "_view_count": null,
            "_view_module": "@jupyter-widgets/controls",
            "_view_module_version": "1.5.0",
            "_view_name": "HBoxView",
            "box_style": "",
            "children": [
              "IPY_MODEL_9ef9e21dbd014f95a4cc1ff0a96e3343",
              "IPY_MODEL_91ea856ea4304025be2dd28bddd98e9e",
              "IPY_MODEL_a549ee4265364256809b8262e2c9bd29"
            ],
            "layout": "IPY_MODEL_8da788b7deef4e4484d5a0b989a6df91"
          }
        },
        "9ef9e21dbd014f95a4cc1ff0a96e3343": {
          "model_module": "@jupyter-widgets/controls",
          "model_name": "HTMLModel",
          "model_module_version": "1.5.0",
          "state": {
            "_dom_classes": [],
            "_model_module": "@jupyter-widgets/controls",
            "_model_module_version": "1.5.0",
            "_model_name": "HTMLModel",
            "_view_count": null,
            "_view_module": "@jupyter-widgets/controls",
            "_view_module_version": "1.5.0",
            "_view_name": "HTMLView",
            "description": "",
            "description_tooltip": null,
            "layout": "IPY_MODEL_78d4f0fcba3f43d0a91e724ad7a27a9d",
            "placeholder": "​",
            "style": "IPY_MODEL_8916fe228e724caa85f22444728daded",
            "value": "100%"
          }
        },
        "91ea856ea4304025be2dd28bddd98e9e": {
          "model_module": "@jupyter-widgets/controls",
          "model_name": "FloatProgressModel",
          "model_module_version": "1.5.0",
          "state": {
            "_dom_classes": [],
            "_model_module": "@jupyter-widgets/controls",
            "_model_module_version": "1.5.0",
            "_model_name": "FloatProgressModel",
            "_view_count": null,
            "_view_module": "@jupyter-widgets/controls",
            "_view_module_version": "1.5.0",
            "_view_name": "ProgressView",
            "bar_style": "success",
            "description": "",
            "description_tooltip": null,
            "layout": "IPY_MODEL_4790c0cc4287401185cef35c117ed739",
            "max": 70,
            "min": 0,
            "orientation": "horizontal",
            "style": "IPY_MODEL_44c34749e82f401293e5a9d80fcee886",
            "value": 70
          }
        },
        "a549ee4265364256809b8262e2c9bd29": {
          "model_module": "@jupyter-widgets/controls",
          "model_name": "HTMLModel",
          "model_module_version": "1.5.0",
          "state": {
            "_dom_classes": [],
            "_model_module": "@jupyter-widgets/controls",
            "_model_module_version": "1.5.0",
            "_model_name": "HTMLModel",
            "_view_count": null,
            "_view_module": "@jupyter-widgets/controls",
            "_view_module_version": "1.5.0",
            "_view_name": "HTMLView",
            "description": "",
            "description_tooltip": null,
            "layout": "IPY_MODEL_aefc889387aa49849a01d68308810a90",
            "placeholder": "​",
            "style": "IPY_MODEL_0dae9ba6c9c943d491b9a0617ce2908a",
            "value": " 70/70 [00:09&lt;00:00,  8.15it/s]"
          }
        },
        "8da788b7deef4e4484d5a0b989a6df91": {
          "model_module": "@jupyter-widgets/base",
          "model_name": "LayoutModel",
          "model_module_version": "1.2.0",
          "state": {
            "_model_module": "@jupyter-widgets/base",
            "_model_module_version": "1.2.0",
            "_model_name": "LayoutModel",
            "_view_count": null,
            "_view_module": "@jupyter-widgets/base",
            "_view_module_version": "1.2.0",
            "_view_name": "LayoutView",
            "align_content": null,
            "align_items": null,
            "align_self": null,
            "border": null,
            "bottom": null,
            "display": null,
            "flex": null,
            "flex_flow": null,
            "grid_area": null,
            "grid_auto_columns": null,
            "grid_auto_flow": null,
            "grid_auto_rows": null,
            "grid_column": null,
            "grid_gap": null,
            "grid_row": null,
            "grid_template_areas": null,
            "grid_template_columns": null,
            "grid_template_rows": null,
            "height": null,
            "justify_content": null,
            "justify_items": null,
            "left": null,
            "margin": null,
            "max_height": null,
            "max_width": null,
            "min_height": null,
            "min_width": null,
            "object_fit": null,
            "object_position": null,
            "order": null,
            "overflow": null,
            "overflow_x": null,
            "overflow_y": null,
            "padding": null,
            "right": null,
            "top": null,
            "visibility": null,
            "width": null
          }
        },
        "78d4f0fcba3f43d0a91e724ad7a27a9d": {
          "model_module": "@jupyter-widgets/base",
          "model_name": "LayoutModel",
          "model_module_version": "1.2.0",
          "state": {
            "_model_module": "@jupyter-widgets/base",
            "_model_module_version": "1.2.0",
            "_model_name": "LayoutModel",
            "_view_count": null,
            "_view_module": "@jupyter-widgets/base",
            "_view_module_version": "1.2.0",
            "_view_name": "LayoutView",
            "align_content": null,
            "align_items": null,
            "align_self": null,
            "border": null,
            "bottom": null,
            "display": null,
            "flex": null,
            "flex_flow": null,
            "grid_area": null,
            "grid_auto_columns": null,
            "grid_auto_flow": null,
            "grid_auto_rows": null,
            "grid_column": null,
            "grid_gap": null,
            "grid_row": null,
            "grid_template_areas": null,
            "grid_template_columns": null,
            "grid_template_rows": null,
            "height": null,
            "justify_content": null,
            "justify_items": null,
            "left": null,
            "margin": null,
            "max_height": null,
            "max_width": null,
            "min_height": null,
            "min_width": null,
            "object_fit": null,
            "object_position": null,
            "order": null,
            "overflow": null,
            "overflow_x": null,
            "overflow_y": null,
            "padding": null,
            "right": null,
            "top": null,
            "visibility": null,
            "width": null
          }
        },
        "8916fe228e724caa85f22444728daded": {
          "model_module": "@jupyter-widgets/controls",
          "model_name": "DescriptionStyleModel",
          "model_module_version": "1.5.0",
          "state": {
            "_model_module": "@jupyter-widgets/controls",
            "_model_module_version": "1.5.0",
            "_model_name": "DescriptionStyleModel",
            "_view_count": null,
            "_view_module": "@jupyter-widgets/base",
            "_view_module_version": "1.2.0",
            "_view_name": "StyleView",
            "description_width": ""
          }
        },
        "4790c0cc4287401185cef35c117ed739": {
          "model_module": "@jupyter-widgets/base",
          "model_name": "LayoutModel",
          "model_module_version": "1.2.0",
          "state": {
            "_model_module": "@jupyter-widgets/base",
            "_model_module_version": "1.2.0",
            "_model_name": "LayoutModel",
            "_view_count": null,
            "_view_module": "@jupyter-widgets/base",
            "_view_module_version": "1.2.0",
            "_view_name": "LayoutView",
            "align_content": null,
            "align_items": null,
            "align_self": null,
            "border": null,
            "bottom": null,
            "display": null,
            "flex": null,
            "flex_flow": null,
            "grid_area": null,
            "grid_auto_columns": null,
            "grid_auto_flow": null,
            "grid_auto_rows": null,
            "grid_column": null,
            "grid_gap": null,
            "grid_row": null,
            "grid_template_areas": null,
            "grid_template_columns": null,
            "grid_template_rows": null,
            "height": null,
            "justify_content": null,
            "justify_items": null,
            "left": null,
            "margin": null,
            "max_height": null,
            "max_width": null,
            "min_height": null,
            "min_width": null,
            "object_fit": null,
            "object_position": null,
            "order": null,
            "overflow": null,
            "overflow_x": null,
            "overflow_y": null,
            "padding": null,
            "right": null,
            "top": null,
            "visibility": null,
            "width": null
          }
        },
        "44c34749e82f401293e5a9d80fcee886": {
          "model_module": "@jupyter-widgets/controls",
          "model_name": "ProgressStyleModel",
          "model_module_version": "1.5.0",
          "state": {
            "_model_module": "@jupyter-widgets/controls",
            "_model_module_version": "1.5.0",
            "_model_name": "ProgressStyleModel",
            "_view_count": null,
            "_view_module": "@jupyter-widgets/base",
            "_view_module_version": "1.2.0",
            "_view_name": "StyleView",
            "bar_color": null,
            "description_width": ""
          }
        },
        "aefc889387aa49849a01d68308810a90": {
          "model_module": "@jupyter-widgets/base",
          "model_name": "LayoutModel",
          "model_module_version": "1.2.0",
          "state": {
            "_model_module": "@jupyter-widgets/base",
            "_model_module_version": "1.2.0",
            "_model_name": "LayoutModel",
            "_view_count": null,
            "_view_module": "@jupyter-widgets/base",
            "_view_module_version": "1.2.0",
            "_view_name": "LayoutView",
            "align_content": null,
            "align_items": null,
            "align_self": null,
            "border": null,
            "bottom": null,
            "display": null,
            "flex": null,
            "flex_flow": null,
            "grid_area": null,
            "grid_auto_columns": null,
            "grid_auto_flow": null,
            "grid_auto_rows": null,
            "grid_column": null,
            "grid_gap": null,
            "grid_row": null,
            "grid_template_areas": null,
            "grid_template_columns": null,
            "grid_template_rows": null,
            "height": null,
            "justify_content": null,
            "justify_items": null,
            "left": null,
            "margin": null,
            "max_height": null,
            "max_width": null,
            "min_height": null,
            "min_width": null,
            "object_fit": null,
            "object_position": null,
            "order": null,
            "overflow": null,
            "overflow_x": null,
            "overflow_y": null,
            "padding": null,
            "right": null,
            "top": null,
            "visibility": null,
            "width": null
          }
        },
        "0dae9ba6c9c943d491b9a0617ce2908a": {
          "model_module": "@jupyter-widgets/controls",
          "model_name": "DescriptionStyleModel",
          "model_module_version": "1.5.0",
          "state": {
            "_model_module": "@jupyter-widgets/controls",
            "_model_module_version": "1.5.0",
            "_model_name": "DescriptionStyleModel",
            "_view_count": null,
            "_view_module": "@jupyter-widgets/base",
            "_view_module_version": "1.2.0",
            "_view_name": "StyleView",
            "description_width": ""
          }
        }
      }
    }
  },
  "nbformat_minor": 0,
  "nbformat": 4,
  "cells": [
    {
      "cell_type": "markdown",
      "metadata": {
        "id": "view-in-github",
        "colab_type": "text"
      },
      "source": [
        "<a href=\"https://colab.research.google.com/github/shahnbej/pytorch/blob/main/Agricultural_crops_classification_using_PyTorch.ipynb\" target=\"_parent\"><img src=\"https://colab.research.google.com/assets/colab-badge.svg\" alt=\"Open In Colab\"/></a>"
      ]
    },
    {
      "source": [
        "\n",
        "# IMPORTANT: RUN THIS CELL IN ORDER TO IMPORT YOUR KAGGLE DATA SOURCES\n",
        "# TO THE CORRECT LOCATION (/kaggle/input) IN YOUR NOTEBOOK,\n",
        "# THEN FEEL FREE TO DELETE THIS CELL.\n",
        "# NOTE: THIS NOTEBOOK ENVIRONMENT DIFFERS FROM KAGGLE'S PYTHON\n",
        "# ENVIRONMENT SO THERE MAY BE MISSING LIBRARIES USED BY YOUR\n",
        "# NOTEBOOK.\n",
        "\n",
        "import os\n",
        "import sys\n",
        "from tempfile import NamedTemporaryFile\n",
        "from urllib.request import urlopen\n",
        "from urllib.parse import unquote, urlparse\n",
        "from urllib.error import HTTPError\n",
        "from zipfile import ZipFile\n",
        "import tarfile\n",
        "import shutil\n",
        "\n",
        "CHUNK_SIZE = 40960\n",
        "DATA_SOURCE_MAPPING = 'agricultural-crops-image-classification:https%3A%2F%2Fstorage.googleapis.com%2Fkaggle-data-sets%2F2436336%2F4122124%2Fbundle%2Farchive.zip%3FX-Goog-Algorithm%3DGOOG4-RSA-SHA256%26X-Goog-Credential%3Dgcp-kaggle-com%2540kaggle-161607.iam.gserviceaccount.com%252F20240608%252Fauto%252Fstorage%252Fgoog4_request%26X-Goog-Date%3D20240608T170018Z%26X-Goog-Expires%3D259200%26X-Goog-SignedHeaders%3Dhost%26X-Goog-Signature%3Dad1aff5cac2682adb137f037b3e561c4b34aa0d63ece0e36469a6f36c1b1c2214b8d3cfa6d7632c537413f4f3537d92c5292dded4a794ab1cb22fa51c7e5558ebb65336bee034503cc54951af3933ca0bf82e53c919ce87fd9c287411fcdaac9c5c9a9317db354bf819167acaacfad268dce89d517ed8f8cde3a737b20b94137ca4b94610cb05de90da40e9f3f3d33cf1daf763765662f7410ed812aea24bce3184ff4edaf19e9607f96115bb59b07a4027f1f2e9795a467b710ef0740d1c58cc0cbce0457a3ffae082e1e3062830a35a81b41f785d30ab671e3792ada7859131221912b87de13e4a3fcc2003de7f99da67771548ac85573f56dd447797a3ecb'\n",
        "\n",
        "KAGGLE_INPUT_PATH='/kaggle/input'\n",
        "KAGGLE_WORKING_PATH='/kaggle/working'\n",
        "KAGGLE_SYMLINK='kaggle'\n",
        "\n",
        "!umount /kaggle/input/ 2> /dev/null\n",
        "shutil.rmtree('/kaggle/input', ignore_errors=True)\n",
        "os.makedirs(KAGGLE_INPUT_PATH, 0o777, exist_ok=True)\n",
        "os.makedirs(KAGGLE_WORKING_PATH, 0o777, exist_ok=True)\n",
        "\n",
        "try:\n",
        "  os.symlink(KAGGLE_INPUT_PATH, os.path.join(\"..\", 'input'), target_is_directory=True)\n",
        "except FileExistsError:\n",
        "  pass\n",
        "try:\n",
        "  os.symlink(KAGGLE_WORKING_PATH, os.path.join(\"..\", 'working'), target_is_directory=True)\n",
        "except FileExistsError:\n",
        "  pass\n",
        "\n",
        "for data_source_mapping in DATA_SOURCE_MAPPING.split(','):\n",
        "    directory, download_url_encoded = data_source_mapping.split(':')\n",
        "    download_url = unquote(download_url_encoded)\n",
        "    filename = urlparse(download_url).path\n",
        "    destination_path = os.path.join(KAGGLE_INPUT_PATH, directory)\n",
        "    try:\n",
        "        with urlopen(download_url) as fileres, NamedTemporaryFile() as tfile:\n",
        "            total_length = fileres.headers['content-length']\n",
        "            print(f'Downloading {directory}, {total_length} bytes compressed')\n",
        "            dl = 0\n",
        "            data = fileres.read(CHUNK_SIZE)\n",
        "            while len(data) > 0:\n",
        "                dl += len(data)\n",
        "                tfile.write(data)\n",
        "                done = int(50 * dl / int(total_length))\n",
        "                sys.stdout.write(f\"\\r[{'=' * done}{' ' * (50-done)}] {dl} bytes downloaded\")\n",
        "                sys.stdout.flush()\n",
        "                data = fileres.read(CHUNK_SIZE)\n",
        "            if filename.endswith('.zip'):\n",
        "              with ZipFile(tfile) as zfile:\n",
        "                zfile.extractall(destination_path)\n",
        "            else:\n",
        "              with tarfile.open(tfile.name) as tarfile:\n",
        "                tarfile.extractall(destination_path)\n",
        "            print(f'\\nDownloaded and uncompressed: {directory}')\n",
        "    except HTTPError as e:\n",
        "        print(f'Failed to load (likely expired) {download_url} to path {destination_path}')\n",
        "        continue\n",
        "    except OSError as e:\n",
        "        print(f'Failed to load {download_url} to path {destination_path}')\n",
        "        continue\n",
        "\n",
        "print('Data source import complete.')\n"
      ],
      "metadata": {
        "id": "K3S6zlYyyzo1",
        "outputId": "ff681f1a-5f22-4c7b-9804-417b90d294be",
        "colab": {
          "base_uri": "https://localhost:8080/"
        }
      },
      "cell_type": "code",
      "outputs": [
        {
          "output_type": "stream",
          "name": "stdout",
          "text": [
            "Downloading agricultural-crops-image-classification, 82830492 bytes compressed\n",
            "[==================================================] 82830492 bytes downloaded\n",
            "Downloaded and uncompressed: agricultural-crops-image-classification\n",
            "Data source import complete.\n"
          ]
        }
      ],
      "execution_count": 1
    },
    {
      "cell_type": "code",
      "source": [
        "# This Python 3 environment comes with many helpful analytics libraries installed\n",
        "# It is defined by the kaggle/python Docker image: https://github.com/kaggle/docker-python\n",
        "# For example, here's several helpful packages to load\n",
        "\n",
        "import numpy as np # linear algebra\n",
        "import pandas as pd # data processing, CSV file I/O (e.g. pd.read_csv)\n",
        "\n",
        "# Input data files are available in the read-only \"../input/\" directory\n",
        "# For example, running this (by clicking run or pressing Shift+Enter) will list all files under the input directory\n",
        "\n",
        "import os\n",
        "# for dirname, _, filenames in os.walk('/kaggle/input'):\n",
        "#     for filename in filenames:\n",
        "#         print(os.path.join(dirname, filename))\n",
        "\n",
        "# You can write up to 20GB to the current directory (/kaggle/working/) that gets preserved as output when you create a version using \"Save & Run All\"\n",
        "# You can also write temporary files to /kaggle/temp/, but they won't be saved outside of the current session"
      ],
      "metadata": {
        "_uuid": "8f2839f25d086af736a60e9eeb907d3b93b6e0e5",
        "_cell_guid": "b1076dfc-b9ad-4769-8c92-a6c4dae69d19",
        "execution": {
          "iopub.status.busy": "2024-06-08T16:51:14.533563Z",
          "iopub.execute_input": "2024-06-08T16:51:14.534218Z",
          "iopub.status.idle": "2024-06-08T16:51:14.900469Z",
          "shell.execute_reply.started": "2024-06-08T16:51:14.534184Z",
          "shell.execute_reply": "2024-06-08T16:51:14.899663Z"
        },
        "trusted": true,
        "id": "Pbllwyr-yzo2"
      },
      "execution_count": 2,
      "outputs": []
    },
    {
      "cell_type": "code",
      "source": [
        "!pip install split-folders"
      ],
      "metadata": {
        "execution": {
          "iopub.status.busy": "2024-06-08T16:51:14.901844Z",
          "iopub.execute_input": "2024-06-08T16:51:14.902212Z",
          "iopub.status.idle": "2024-06-08T16:51:28.166547Z",
          "shell.execute_reply.started": "2024-06-08T16:51:14.902186Z",
          "shell.execute_reply": "2024-06-08T16:51:28.165642Z"
        },
        "trusted": true,
        "id": "4og4LNZuyzo3",
        "outputId": "87a15ab7-ce8a-4f8b-eed6-02d8c479d091",
        "colab": {
          "base_uri": "https://localhost:8080/"
        }
      },
      "execution_count": 3,
      "outputs": [
        {
          "output_type": "stream",
          "name": "stdout",
          "text": [
            "Collecting split-folders\n",
            "  Downloading split_folders-0.5.1-py3-none-any.whl (8.4 kB)\n",
            "Installing collected packages: split-folders\n",
            "Successfully installed split-folders-0.5.1\n"
          ]
        }
      ]
    },
    {
      "cell_type": "code",
      "source": [
        "# Continue with regular imports\n",
        "import matplotlib.pyplot as plt\n",
        "import torch\n",
        "import torchvision\n",
        "\n",
        "from torch import nn\n",
        "from torchvision import transforms\n",
        "\n",
        "# Try to get torchinfo, install it if it doesn't work\n",
        "try:\n",
        "    from torchinfo import summary\n",
        "except:\n",
        "    print(\"[INFO] Couldn't find torchinfo... installing it.\")\n",
        "    !pip install -q torchinfo\n",
        "    from torchinfo import summary\n",
        "\n",
        "# Try to import the going_modular directory, download it from GitHub if it doesn't work\n",
        "try:\n",
        "    from going_modular.going_modular import data_setup, engine\n",
        "    from helper_functions import download_data, set_seeds, plot_loss_curves\n",
        "except:\n",
        "    # Get the going_modular scripts\n",
        "    print(\"[INFO] Couldn't find going_modular or helper_functions scripts... downloading them from GitHub.\")\n",
        "    !git clone https://github.com/mrdbourke/pytorch-deep-learning\n",
        "    !mv pytorch-deep-learning/going_modular .\n",
        "    !mv pytorch-deep-learning/helper_functions.py . # get the helper_functions.py script\n",
        "    !rm -rf pytorch-deep-learning\n",
        "    from going_modular.going_modular import data_setup, engine\n",
        "    from helper_functions import download_data, set_seeds, plot_loss_curves"
      ],
      "metadata": {
        "execution": {
          "iopub.status.busy": "2024-06-08T16:51:28.167882Z",
          "iopub.execute_input": "2024-06-08T16:51:28.168209Z",
          "iopub.status.idle": "2024-06-08T16:51:57.599828Z",
          "shell.execute_reply.started": "2024-06-08T16:51:28.168123Z",
          "shell.execute_reply": "2024-06-08T16:51:57.598705Z"
        },
        "trusted": true,
        "id": "HJDvL-Btyzo3",
        "outputId": "c4bd7aa1-4884-49a4-8fd0-d63b8bce1dc7",
        "colab": {
          "base_uri": "https://localhost:8080/"
        }
      },
      "execution_count": 4,
      "outputs": [
        {
          "output_type": "stream",
          "name": "stdout",
          "text": [
            "[INFO] Couldn't find torchinfo... installing it.\n",
            "[INFO] Couldn't find going_modular or helper_functions scripts... downloading them from GitHub.\n",
            "Cloning into 'pytorch-deep-learning'...\n",
            "remote: Enumerating objects: 4056, done.\u001b[K\n",
            "remote: Total 4056 (delta 0), reused 0 (delta 0), pack-reused 4056\u001b[K\n",
            "Receiving objects: 100% (4056/4056), 646.90 MiB | 37.95 MiB/s, done.\n",
            "Resolving deltas: 100% (2371/2371), done.\n",
            "Updating files: 100% (248/248), done.\n"
          ]
        }
      ]
    },
    {
      "cell_type": "code",
      "source": [
        "import torch\n",
        "from torch import nn\n",
        "import requests\n",
        "import zipfile\n",
        "from pathlib import Path\n",
        "import numpy as np\n",
        "import pandas as pd\n",
        "import os.path\n",
        "import matplotlib.pyplot as plt\n",
        "import warnings\n",
        "warnings.filterwarnings(\"ignore\")\n",
        "from typing import Tuple, Dict, List"
      ],
      "metadata": {
        "execution": {
          "iopub.status.busy": "2024-06-08T16:51:57.602546Z",
          "iopub.execute_input": "2024-06-08T16:51:57.603198Z",
          "iopub.status.idle": "2024-06-08T16:51:57.609049Z",
          "shell.execute_reply.started": "2024-06-08T16:51:57.603141Z",
          "shell.execute_reply": "2024-06-08T16:51:57.608209Z"
        },
        "trusted": true,
        "id": "EdKTZThAyzo4"
      },
      "execution_count": 5,
      "outputs": []
    },
    {
      "cell_type": "code",
      "source": [
        "# Setup device-agnostic code\n",
        "device = \"cuda\" if torch.cuda.is_available() else \"cpu\"\n",
        "device"
      ],
      "metadata": {
        "execution": {
          "iopub.status.busy": "2024-06-08T16:51:57.610132Z",
          "iopub.execute_input": "2024-06-08T16:51:57.610411Z",
          "iopub.status.idle": "2024-06-08T16:51:57.624416Z",
          "shell.execute_reply.started": "2024-06-08T16:51:57.610387Z",
          "shell.execute_reply": "2024-06-08T16:51:57.623576Z"
        },
        "trusted": true,
        "id": "UZl5I0N0yzo4",
        "outputId": "d6c5a8d4-8c98-453a-d5c7-bbf1146198d0",
        "colab": {
          "base_uri": "https://localhost:8080/",
          "height": 36
        }
      },
      "execution_count": 6,
      "outputs": [
        {
          "output_type": "execute_result",
          "data": {
            "text/plain": [
              "'cuda'"
            ],
            "application/vnd.google.colaboratory.intrinsic+json": {
              "type": "string"
            }
          },
          "metadata": {},
          "execution_count": 6
        }
      ]
    },
    {
      "cell_type": "code",
      "source": [
        "import torch\n",
        "from torch.utils.data import DataLoader\n",
        "from torchvision import datasets, transforms\n",
        "import os\n",
        "import pathlib\n",
        "from PIL import Image\n",
        "from torch.utils.data import Dataset\n",
        "from torchvision import transforms\n",
        "from typing import Tuple, Dict, List\n",
        "import random"
      ],
      "metadata": {
        "execution": {
          "iopub.status.busy": "2024-06-08T16:51:57.625593Z",
          "iopub.execute_input": "2024-06-08T16:51:57.625945Z",
          "iopub.status.idle": "2024-06-08T16:51:57.633643Z",
          "shell.execute_reply.started": "2024-06-08T16:51:57.625899Z",
          "shell.execute_reply": "2024-06-08T16:51:57.632916Z"
        },
        "trusted": true,
        "id": "vudPUiIoyzo5"
      },
      "execution_count": 7,
      "outputs": []
    },
    {
      "cell_type": "code",
      "source": [
        "# Make function to find classes in target directory\n",
        "def find_classes(directory: str) -> Tuple[List[str], Dict[str, int]]:\n",
        "    \"\"\"Finds the class folder names in a target directory.\n",
        "\n",
        "    Assumes target directory is in standard image classification format.\n",
        "\n",
        "    Args:\n",
        "        directory (str): target directory to load classnames from.\n",
        "\n",
        "    Returns:\n",
        "        Tuple[List[str], Dict[str, int]]: (list_of_class_names, dict(class_name: idx...))\n",
        "\n",
        "    Example:\n",
        "        find_classes(\"food_images/train\")\n",
        "        >>> ([\"class_1\", \"class_2\"], {\"class_1\": 0, ...})\n",
        "    \"\"\"\n",
        "    # 1. Get the class names by scanning the target directory\n",
        "    classes = sorted(entry.name for entry in os.scandir(directory) if entry.is_dir())\n",
        "\n",
        "    # 2. Raise an error if class names not found\n",
        "    if not classes:\n",
        "        raise FileNotFoundError(f\"Couldn't find any classes in {directory}.\")\n",
        "\n",
        "    # 3. Create a dictionary of index labels (computers prefer numerical rather than string labels)\n",
        "    class_to_idx = {cls_name: i for i, cls_name in enumerate(classes)}\n",
        "    return classes, class_to_idx"
      ],
      "metadata": {
        "execution": {
          "iopub.status.busy": "2024-06-08T16:51:57.634682Z",
          "iopub.execute_input": "2024-06-08T16:51:57.634958Z",
          "iopub.status.idle": "2024-06-08T16:51:57.644987Z",
          "shell.execute_reply.started": "2024-06-08T16:51:57.634925Z",
          "shell.execute_reply": "2024-06-08T16:51:57.644114Z"
        },
        "trusted": true,
        "id": "9ZEuV50jyzo5"
      },
      "execution_count": 8,
      "outputs": []
    },
    {
      "cell_type": "code",
      "source": [
        "input_folder='/kaggle/input/agricultural-crops-image-classification/Agricultural-crops'\n",
        "import splitfolders\n",
        "split_ratio = (0.9,0.0,0.1)\n",
        "splitfolders.ratio( input_folder,\n",
        "                  output='/kaggle/working/Dataset', seed=500,\n",
        "                  ratio=split_ratio,\n",
        "                  group_prefix=None,\n",
        "                  )"
      ],
      "metadata": {
        "execution": {
          "iopub.status.busy": "2024-06-08T16:51:57.646062Z",
          "iopub.execute_input": "2024-06-08T16:51:57.646455Z",
          "iopub.status.idle": "2024-06-08T16:52:01.869862Z",
          "shell.execute_reply.started": "2024-06-08T16:51:57.646432Z",
          "shell.execute_reply": "2024-06-08T16:52:01.868941Z"
        },
        "trusted": true,
        "id": "hv-ohbrryzo6",
        "outputId": "1513d490-cc4a-4013-dd5f-ef208c4d1e5a",
        "colab": {
          "base_uri": "https://localhost:8080/"
        }
      },
      "execution_count": 9,
      "outputs": [
        {
          "output_type": "stream",
          "name": "stderr",
          "text": [
            "Copying files: 829 files [00:00, 3848.28 files/s]\n"
          ]
        }
      ]
    },
    {
      "cell_type": "code",
      "source": [
        "# Create a list with the filepaths for training and testing\n",
        "trainpath = Path('../working/Dataset/train')\n",
        "trainfilepaths = list(trainpath.glob(r'**/*.jpg'))\n",
        "\n",
        "testpath = Path('../working/Dataset/test')\n",
        "testfilepaths = list(testpath.glob(r'**/*.jpg'))\n",
        "\n",
        "valpath = Path('../working/Dataset/val')\n",
        "valfilepaths = list(testpath.glob(r'**/*.jpg'))"
      ],
      "metadata": {
        "execution": {
          "iopub.status.busy": "2024-06-08T16:52:01.871253Z",
          "iopub.execute_input": "2024-06-08T16:52:01.87162Z",
          "iopub.status.idle": "2024-06-08T16:52:01.886961Z",
          "shell.execute_reply.started": "2024-06-08T16:52:01.871585Z",
          "shell.execute_reply": "2024-06-08T16:52:01.886041Z"
        },
        "trusted": true,
        "id": "I25rC9iOyzo6"
      },
      "execution_count": 10,
      "outputs": []
    },
    {
      "cell_type": "code",
      "source": [
        "trainpath, len(trainfilepaths)"
      ],
      "metadata": {
        "execution": {
          "iopub.status.busy": "2024-06-08T16:52:01.890888Z",
          "iopub.execute_input": "2024-06-08T16:52:01.891168Z",
          "iopub.status.idle": "2024-06-08T16:52:01.896714Z",
          "shell.execute_reply.started": "2024-06-08T16:52:01.89113Z",
          "shell.execute_reply": "2024-06-08T16:52:01.895826Z"
        },
        "trusted": true,
        "id": "qkmeGZFoyzo6",
        "outputId": "0318f44e-3f9a-45fc-931b-c3bb01709f60",
        "colab": {
          "base_uri": "https://localhost:8080/"
        }
      },
      "execution_count": 11,
      "outputs": [
        {
          "output_type": "execute_result",
          "data": {
            "text/plain": [
              "(PosixPath('../working/Dataset/train'), 490)"
            ]
          },
          "metadata": {},
          "execution_count": 11
        }
      ]
    },
    {
      "cell_type": "code",
      "source": [
        "class_names, class_names_idx = find_classes(trainpath)\n",
        "len(class_names)"
      ],
      "metadata": {
        "execution": {
          "iopub.status.busy": "2024-06-08T16:52:01.897858Z",
          "iopub.execute_input": "2024-06-08T16:52:01.898123Z",
          "iopub.status.idle": "2024-06-08T16:52:01.907336Z",
          "shell.execute_reply.started": "2024-06-08T16:52:01.898101Z",
          "shell.execute_reply": "2024-06-08T16:52:01.906531Z"
        },
        "trusted": true,
        "id": "fiusG8Xxyzo6",
        "outputId": "c868ff16-49ff-4b9d-8ba6-642d133e95e4",
        "colab": {
          "base_uri": "https://localhost:8080/"
        }
      },
      "execution_count": 12,
      "outputs": [
        {
          "output_type": "execute_result",
          "data": {
            "text/plain": [
              "30"
            ]
          },
          "metadata": {},
          "execution_count": 12
        }
      ]
    },
    {
      "cell_type": "code",
      "source": [
        "def create_effnetb2_model(num_classes:int=50, seed:int=42):\n",
        "    \"\"\"\n",
        "    Create an EfficientNetB2 features extrator model and transfroms.\n",
        "\n",
        "    Args:\n",
        "        num_classes (int, optional): number of classesin the classifier header\n",
        "        Defaults to 50\n",
        "        seed(int, optional): random seed value:Default to 42.\n",
        "\n",
        "    Returns:\n",
        "        model (torch.nn.Module): EffNet feature extractor model.\n",
        "        transforms (torchvision.transforms): EffNetB2 image transforms.\n",
        "    \"\"\"\n",
        "    weights = torchvision.models.EfficientNet_B2_Weights.DEFAULT\n",
        "    transforms = weights.transforms()\n",
        "    model = torchvision.models.efficientnet_b2(weights=weights)\n",
        "    # Freeze all layers in base model\n",
        "    for param in model.parameters():\n",
        "        param.requires_grad=False\n",
        "\n",
        "    # Changing classifier head with random seed\n",
        "    torch.manual_seed(seed)\n",
        "    model.classifier = nn.Sequential(nn.Dropout(p=0.3, inplace= True),\n",
        "                                    nn.Linear(in_features=1408,out_features=num_classes)\n",
        "                                    )\n",
        "    return model, transforms"
      ],
      "metadata": {
        "execution": {
          "iopub.status.busy": "2024-06-08T16:52:01.908442Z",
          "iopub.execute_input": "2024-06-08T16:52:01.909277Z",
          "iopub.status.idle": "2024-06-08T16:52:01.915773Z",
          "shell.execute_reply.started": "2024-06-08T16:52:01.909253Z",
          "shell.execute_reply": "2024-06-08T16:52:01.914974Z"
        },
        "trusted": true,
        "id": "Q2rDstwJyzo6"
      },
      "execution_count": 13,
      "outputs": []
    },
    {
      "cell_type": "code",
      "source": [
        "effnetb2, effnetb2_transforms = create_effnetb2_model(num_classes=50, seed=42)"
      ],
      "metadata": {
        "execution": {
          "iopub.status.busy": "2024-06-08T16:52:01.916882Z",
          "iopub.execute_input": "2024-06-08T16:52:01.917639Z",
          "iopub.status.idle": "2024-06-08T16:52:02.623024Z",
          "shell.execute_reply.started": "2024-06-08T16:52:01.917615Z",
          "shell.execute_reply": "2024-06-08T16:52:02.622252Z"
        },
        "trusted": true,
        "id": "YXHVqy0Cyzo6",
        "outputId": "b2ec7f42-cafb-49d0-a914-54482550dea1",
        "colab": {
          "base_uri": "https://localhost:8080/"
        }
      },
      "execution_count": 14,
      "outputs": [
        {
          "output_type": "stream",
          "name": "stderr",
          "text": [
            "Downloading: \"https://download.pytorch.org/models/efficientnet_b2_rwightman-c35c1473.pth\" to /root/.cache/torch/hub/checkpoints/efficientnet_b2_rwightman-c35c1473.pth\n",
            "100%|██████████| 35.2M/35.2M [00:00<00:00, 117MB/s]\n"
          ]
        }
      ]
    },
    {
      "cell_type": "code",
      "source": [
        "# # from torchinfo import summary\n",
        "\n",
        "# # Print EffNetB2 model summary (uncomment for full output)\n",
        "# summary(effnetb2,\n",
        "#         input_size=(1, 3, 224, 224),\n",
        "#         col_names=[\"input_size\", \"output_size\", \"num_params\", \"trainable\"],\n",
        "#         col_width=20,\n",
        "#         row_settings=[\"var_names\"])"
      ],
      "metadata": {
        "execution": {
          "iopub.status.busy": "2024-06-08T16:52:02.624328Z",
          "iopub.execute_input": "2024-06-08T16:52:02.624691Z",
          "iopub.status.idle": "2024-06-08T16:52:02.629324Z",
          "shell.execute_reply.started": "2024-06-08T16:52:02.624655Z",
          "shell.execute_reply": "2024-06-08T16:52:02.62818Z"
        },
        "trusted": true,
        "id": "JmNgIbpayzo9"
      },
      "execution_count": 15,
      "outputs": []
    },
    {
      "cell_type": "code",
      "source": [
        "from going_modular.going_modular import data_setup\n",
        "\n",
        "train_dataloader_effnetb2, test_dataloader_effnetb2, class_names = data_setup.create_dataloaders(train_dir=trainpath,\n",
        "                                                                                                test_dir=testpath,\n",
        "                                                                                                transform= effnetb2_transforms,\n",
        "                                                                                                batch_size=32)"
      ],
      "metadata": {
        "execution": {
          "iopub.status.busy": "2024-06-08T16:52:02.630551Z",
          "iopub.execute_input": "2024-06-08T16:52:02.630939Z",
          "iopub.status.idle": "2024-06-08T16:52:02.645736Z",
          "shell.execute_reply.started": "2024-06-08T16:52:02.630909Z",
          "shell.execute_reply": "2024-06-08T16:52:02.644974Z"
        },
        "trusted": true,
        "id": "NNQZHlYmyzo-"
      },
      "execution_count": 16,
      "outputs": []
    },
    {
      "cell_type": "code",
      "source": [
        "train_dataloader_effnetb2, len(class_names)"
      ],
      "metadata": {
        "execution": {
          "iopub.status.busy": "2024-06-08T16:52:02.646764Z",
          "iopub.execute_input": "2024-06-08T16:52:02.647052Z",
          "iopub.status.idle": "2024-06-08T16:52:02.653391Z",
          "shell.execute_reply.started": "2024-06-08T16:52:02.647029Z",
          "shell.execute_reply": "2024-06-08T16:52:02.652455Z"
        },
        "trusted": true,
        "id": "DJkOZj2cyzo-",
        "outputId": "8307fc2a-cab5-404a-f7f7-29178198da5d",
        "colab": {
          "base_uri": "https://localhost:8080/"
        }
      },
      "execution_count": 17,
      "outputs": [
        {
          "output_type": "execute_result",
          "data": {
            "text/plain": [
              "(<torch.utils.data.dataloader.DataLoader at 0x7c2525a23790>, 30)"
            ]
          },
          "metadata": {},
          "execution_count": 17
        }
      ]
    },
    {
      "cell_type": "code",
      "source": [
        "from going_modular.going_modular import engine\n",
        "\n",
        "optimizer = torch.optim.Adam(params=effnetb2.parameters(), lr=1e-3)\n",
        "loss_fn = torch.nn.CrossEntropyLoss()\n",
        "\n",
        "effnetb2_results = engine.train(model=effnetb2,\n",
        "                               train_dataloader=train_dataloader_effnetb2,\n",
        "                               test_dataloader= test_dataloader_effnetb2,\n",
        "                               epochs=12,\n",
        "                               optimizer=optimizer,\n",
        "                               loss_fn=loss_fn,\n",
        "                               device=device)"
      ],
      "metadata": {
        "execution": {
          "iopub.status.busy": "2024-06-08T16:52:02.654506Z",
          "iopub.execute_input": "2024-06-08T16:52:02.654749Z",
          "iopub.status.idle": "2024-06-08T16:53:13.718639Z",
          "shell.execute_reply.started": "2024-06-08T16:52:02.654727Z",
          "shell.execute_reply": "2024-06-08T16:53:13.717496Z"
        },
        "trusted": true,
        "id": "MsDaeLjByzo-",
        "outputId": "a8d7c871-6bda-4f40-cd7b-c32b50a26fc1",
        "colab": {
          "base_uri": "https://localhost:8080/",
          "height": 257,
          "referenced_widgets": [
            "1f98005c92e641fdb43ff358435ae0d4",
            "dab7a593da20464e8305ad2ad5bdf960",
            "2f1ad21d09f54f08bee0609180cdccee",
            "bd1c9853c3274247b12828953e1ba712",
            "9400fa8725b746bb944a10a0bb0cb55f",
            "e106c5b440a7458688a56e3decad0b66",
            "855477eeb154436baca5a6ab5a43a121",
            "734f09b6a5614b57b59ad584879c983e",
            "ec02eb58ada042ffac2dc52a8212dd59",
            "44094603d86444d6b58bac98d479eacb",
            "16150ee542584f3d8daa630875b30a81"
          ]
        }
      },
      "execution_count": 18,
      "outputs": [
        {
          "output_type": "display_data",
          "data": {
            "text/plain": [
              "  0%|          | 0/12 [00:00<?, ?it/s]"
            ],
            "application/vnd.jupyter.widget-view+json": {
              "version_major": 2,
              "version_minor": 0,
              "model_id": "1f98005c92e641fdb43ff358435ae0d4"
            }
          },
          "metadata": {}
        },
        {
          "output_type": "stream",
          "name": "stdout",
          "text": [
            "Epoch: 1 | train_loss: 3.3690 | train_acc: 0.1836 | test_loss: 2.8379 | test_acc: 0.6641\n",
            "Epoch: 2 | train_loss: 2.4536 | train_acc: 0.6564 | test_loss: 2.1920 | test_acc: 0.7734\n",
            "Epoch: 3 | train_loss: 1.8576 | train_acc: 0.7898 | test_loss: 1.7782 | test_acc: 0.7891\n",
            "Epoch: 4 | train_loss: 1.4614 | train_acc: 0.8518 | test_loss: 1.4931 | test_acc: 0.8203\n",
            "Epoch: 5 | train_loss: 1.2056 | train_acc: 0.8776 | test_loss: 1.2680 | test_acc: 0.8359\n",
            "Epoch: 6 | train_loss: 0.9856 | train_acc: 0.9069 | test_loss: 1.1450 | test_acc: 0.8359\n",
            "Epoch: 7 | train_loss: 0.8539 | train_acc: 0.9223 | test_loss: 0.9926 | test_acc: 0.8672\n",
            "Epoch: 8 | train_loss: 0.6973 | train_acc: 0.9334 | test_loss: 0.9284 | test_acc: 0.8438\n",
            "Epoch: 9 | train_loss: 0.6313 | train_acc: 0.9446 | test_loss: 0.8896 | test_acc: 0.8594\n",
            "Epoch: 10 | train_loss: 0.5872 | train_acc: 0.9457 | test_loss: 0.7840 | test_acc: 0.8750\n",
            "Epoch: 11 | train_loss: 0.5227 | train_acc: 0.9438 | test_loss: 0.7587 | test_acc: 0.8438\n",
            "Epoch: 12 | train_loss: 0.4339 | train_acc: 0.9715 | test_loss: 0.7154 | test_acc: 0.8750\n"
          ]
        }
      ]
    },
    {
      "cell_type": "code",
      "source": [
        "from helper_functions import plot_loss_curves\n",
        "plot_loss_curves(effnetb2_results)"
      ],
      "metadata": {
        "execution": {
          "iopub.status.busy": "2024-06-08T16:53:13.720334Z",
          "iopub.execute_input": "2024-06-08T16:53:13.720732Z",
          "iopub.status.idle": "2024-06-08T16:53:14.353888Z",
          "shell.execute_reply.started": "2024-06-08T16:53:13.720696Z",
          "shell.execute_reply": "2024-06-08T16:53:14.353002Z"
        },
        "trusted": true,
        "id": "r0yZcotTyzo-",
        "outputId": "27a13235-f743-4955-e4a1-4e7e56f74055",
        "colab": {
          "base_uri": "https://localhost:8080/",
          "height": 589
        }
      },
      "execution_count": 29,
      "outputs": [
        {
          "output_type": "display_data",
          "data": {
            "text/plain": [
              "<Figure size 1500x700 with 2 Axes>"
            ],
            "image/png": "[encoded data removed]"
          },
          "metadata": {}
        }
      ]
    },
    {
      "cell_type": "code",
      "source": [
        "# Save the model\n",
        "from going_modular.going_modular import utils\n",
        "\n",
        "utils.save_model(model=effnetb2,\n",
        "                 target_dir=\"models\",\n",
        "                 model_name=\"effnetb2_feature_extractor_arg_crops_img_class.pth\")"
      ],
      "metadata": {
        "execution": {
          "iopub.status.busy": "2024-06-08T16:53:14.355351Z",
          "iopub.execute_input": "2024-06-08T16:53:14.355689Z",
          "iopub.status.idle": "2024-06-08T16:53:14.45084Z",
          "shell.execute_reply.started": "2024-06-08T16:53:14.355657Z",
          "shell.execute_reply": "2024-06-08T16:53:14.449917Z"
        },
        "trusted": true,
        "id": "xtsqemYfyzo_",
        "outputId": "a8a50b2d-be2f-48c2-dc6b-7e814e78a534",
        "colab": {
          "base_uri": "https://localhost:8080/"
        }
      },
      "execution_count": 20,
      "outputs": [
        {
          "output_type": "stream",
          "name": "stdout",
          "text": [
            "[INFO] Saving model to: models/effnetb2_feature_extractor_arg_crops_img_class.pth\n"
          ]
        }
      ]
    },
    {
      "cell_type": "code",
      "source": [
        "# import and install Gradio\n",
        "\n",
        "try:\n",
        "    import gradio as gr\n",
        "except:\n",
        "    !pip -q install gradio\n",
        "    import gradio as gr\n",
        "\n",
        "print(f\"Gradio version: {gr.__version__}\")"
      ],
      "metadata": {
        "execution": {
          "iopub.status.busy": "2024-06-08T16:53:14.45202Z",
          "iopub.execute_input": "2024-06-08T16:53:14.452383Z",
          "iopub.status.idle": "2024-06-08T16:53:37.305601Z",
          "shell.execute_reply.started": "2024-06-08T16:53:14.452352Z",
          "shell.execute_reply": "2024-06-08T16:53:37.304595Z"
        },
        "trusted": true,
        "id": "h1hjcvXiyzo_",
        "outputId": "b59f17b2-a795-42a6-bcb9-c6e14b015688",
        "colab": {
          "base_uri": "https://localhost:8080/"
        }
      },
      "execution_count": 21,
      "outputs": [
        {
          "output_type": "stream",
          "name": "stdout",
          "text": [
            "\u001b[2K     \u001b[90m━━━━━━━━━━━━━━━━━━━━━━━━━━━━━━━━━━━━━━━━\u001b[0m \u001b[32m12.3/12.3 MB\u001b[0m \u001b[31m49.6 MB/s\u001b[0m eta \u001b[36m0:00:00\u001b[0m\n",
            "\u001b[2K     \u001b[90m━━━━━━━━━━━━━━━━━━━━━━━━━━━━━━━━━━━━━━━━\u001b[0m \u001b[32m92.0/92.0 kB\u001b[0m \u001b[31m12.2 MB/s\u001b[0m eta \u001b[36m0:00:00\u001b[0m\n",
            "\u001b[?25h  Preparing metadata (setup.py) ... \u001b[?25l\u001b[?25hdone\n",
            "\u001b[2K     \u001b[90m━━━━━━━━━━━━━━━━━━━━━━━━━━━━━━━━━━━━━━━━\u001b[0m \u001b[32m318.1/318.1 kB\u001b[0m \u001b[31m35.5 MB/s\u001b[0m eta \u001b[36m0:00:00\u001b[0m\n",
            "\u001b[2K     \u001b[90m━━━━━━━━━━━━━━━━━━━━━━━━━━━━━━━━━━━━━━━━\u001b[0m \u001b[32m75.6/75.6 kB\u001b[0m \u001b[31m10.0 MB/s\u001b[0m eta \u001b[36m0:00:00\u001b[0m\n",
            "\u001b[2K     \u001b[90m━━━━━━━━━━━━━━━━━━━━━━━━━━━━━━━━━━━━━━━━\u001b[0m \u001b[32m142.5/142.5 kB\u001b[0m \u001b[31m19.4 MB/s\u001b[0m eta \u001b[36m0:00:00\u001b[0m\n",
            "\u001b[2K     \u001b[90m━━━━━━━━━━━━━━━━━━━━━━━━━━━━━━━━━━━━━━━━\u001b[0m \u001b[32m8.8/8.8 MB\u001b[0m \u001b[31m64.6 MB/s\u001b[0m eta \u001b[36m0:00:00\u001b[0m\n",
            "\u001b[2K     \u001b[90m━━━━━━━━━━━━━━━━━━━━━━━━━━━━━━━━━━━━━━━━\u001b[0m \u001b[32m47.2/47.2 kB\u001b[0m \u001b[31m6.6 MB/s\u001b[0m eta \u001b[36m0:00:00\u001b[0m\n",
            "\u001b[2K     \u001b[90m━━━━━━━━━━━━━━━━━━━━━━━━━━━━━━━━━━━━━━━━\u001b[0m \u001b[32m62.4/62.4 kB\u001b[0m \u001b[31m8.8 MB/s\u001b[0m eta \u001b[36m0:00:00\u001b[0m\n",
            "\u001b[2K     \u001b[90m━━━━━━━━━━━━━━━━━━━━━━━━━━━━━━━━━━━━━━━━\u001b[0m \u001b[32m129.9/129.9 kB\u001b[0m \u001b[31m16.9 MB/s\u001b[0m eta \u001b[36m0:00:00\u001b[0m\n",
            "\u001b[2K     \u001b[90m━━━━━━━━━━━━━━━━━━━━━━━━━━━━━━━━━━━━━━━━\u001b[0m \u001b[32m77.9/77.9 kB\u001b[0m \u001b[31m11.2 MB/s\u001b[0m eta \u001b[36m0:00:00\u001b[0m\n",
            "\u001b[2K     \u001b[90m━━━━━━━━━━━━━━━━━━━━━━━━━━━━━━━━━━━━━━━━\u001b[0m \u001b[32m58.3/58.3 kB\u001b[0m \u001b[31m7.4 MB/s\u001b[0m eta \u001b[36m0:00:00\u001b[0m\n",
            "\u001b[2K     \u001b[90m━━━━━━━━━━━━━━━━━━━━━━━━━━━━━━━━━━━━━━━━\u001b[0m \u001b[32m71.9/71.9 kB\u001b[0m \u001b[31m10.4 MB/s\u001b[0m eta \u001b[36m0:00:00\u001b[0m\n",
            "\u001b[2K     \u001b[90m━━━━━━━━━━━━━━━━━━━━━━━━━━━━━━━━━━━━━━━━\u001b[0m \u001b[32m53.6/53.6 kB\u001b[0m \u001b[31m7.9 MB/s\u001b[0m eta \u001b[36m0:00:00\u001b[0m\n",
            "\u001b[2K     \u001b[90m━━━━━━━━━━━━━━━━━━━━━━━━━━━━━━━━━━━━━━━━\u001b[0m \u001b[32m307.7/307.7 kB\u001b[0m \u001b[31m32.4 MB/s\u001b[0m eta \u001b[36m0:00:00\u001b[0m\n",
            "\u001b[2K     \u001b[90m━━━━━━━━━━━━━━━━━━━━━━━━━━━━━━━━━━━━━━━━\u001b[0m \u001b[32m341.4/341.4 kB\u001b[0m \u001b[31m37.3 MB/s\u001b[0m eta \u001b[36m0:00:00\u001b[0m\n",
            "\u001b[2K     \u001b[90m━━━━━━━━━━━━━━━━━━━━━━━━━━━━━━━━━━━━━━━━\u001b[0m \u001b[32m3.4/3.4 MB\u001b[0m \u001b[31m105.0 MB/s\u001b[0m eta \u001b[36m0:00:00\u001b[0m\n",
            "\u001b[2K     \u001b[90m━━━━━━━━━━━━━━━━━━━━━━━━━━━━━━━━━━━━━━━━\u001b[0m \u001b[32m1.2/1.2 MB\u001b[0m \u001b[31m69.6 MB/s\u001b[0m eta \u001b[36m0:00:00\u001b[0m\n",
            "\u001b[?25h  Building wheel for ffmpy (setup.py) ... \u001b[?25l\u001b[?25hdone\n",
            "\u001b[31mERROR: pip's dependency resolver does not currently take into account all the packages that are installed. This behaviour is the source of the following dependency conflicts.\n",
            "spacy 3.7.4 requires typer<0.10.0,>=0.3.0, but you have typer 0.12.3 which is incompatible.\n",
            "weasel 0.3.4 requires typer<0.10.0,>=0.3.0, but you have typer 0.12.3 which is incompatible.\u001b[0m\u001b[31m\n",
            "\u001b[0mGradio version: 4.36.0\n"
          ]
        }
      ]
    },
    {
      "cell_type": "code",
      "source": [
        "# Put effnetb2 model on cpu\n",
        "effnetb2.to(\"cpu\")\n",
        "\n",
        "next(iter(effnetb2.parameters())).device"
      ],
      "metadata": {
        "execution": {
          "iopub.status.busy": "2024-06-08T16:53:37.306746Z",
          "iopub.execute_input": "2024-06-08T16:53:37.307269Z",
          "iopub.status.idle": "2024-06-08T16:53:37.361431Z",
          "shell.execute_reply.started": "2024-06-08T16:53:37.307241Z",
          "shell.execute_reply": "2024-06-08T16:53:37.360513Z"
        },
        "trusted": true,
        "id": "kyOYCRl-yzo_",
        "outputId": "1b9f05b3-9082-483f-fb6e-11c56fdb8eb1",
        "colab": {
          "base_uri": "https://localhost:8080/"
        }
      },
      "execution_count": 22,
      "outputs": [
        {
          "output_type": "execute_result",
          "data": {
            "text/plain": [
              "device(type='cpu')"
            ]
          },
          "metadata": {},
          "execution_count": 22
        }
      ]
    },
    {
      "cell_type": "code",
      "source": [
        "from typing import Tuple, Dict\n",
        "from timeit import default_timer as timer\n",
        "\n",
        "def predict(img) -> Tuple[Dict, float]:\n",
        "    \"\"\" Transforms and performs a predcition on img and returns predictrion and run time\n",
        "    \"\"\"\n",
        "    start_time = timer()\n",
        "\n",
        "    img = effnetb2_transforms(img).unsqueeze(0)\n",
        "\n",
        "    effnetb2.eval()\n",
        "    with torch.inference_mode():\n",
        "\n",
        "        pred_probs = torch.softmax(effnetb2(img), dim=1)\n",
        "\n",
        "    pred_labels_and_probs = {class_names[i]: float(pred_probs[0][1]) for i in range(len(class_names))}\n",
        "\n",
        "    pred_time = round(timer() - start_time, 5)\n",
        "\n",
        "    return pred_labels_and_probs, pred_time\n",
        ""
      ],
      "metadata": {
        "execution": {
          "iopub.status.busy": "2024-06-08T16:53:37.362419Z",
          "iopub.execute_input": "2024-06-08T16:53:37.362662Z",
          "iopub.status.idle": "2024-06-08T16:53:37.36959Z",
          "shell.execute_reply.started": "2024-06-08T16:53:37.362641Z",
          "shell.execute_reply": "2024-06-08T16:53:37.368602Z"
        },
        "trusted": true,
        "id": "cFqiJ2Mqyzo_"
      },
      "execution_count": 23,
      "outputs": []
    },
    {
      "cell_type": "code",
      "source": [
        "import random\n",
        "from PIL import Image\n",
        "\n",
        "# Get a list of all test image filepaths\n",
        "test_data_paths = list(Path(testpath).glob(r\"**/*.jpg\"))\n",
        "\n",
        "# Randomly select a test image path\n",
        "random_image_path = random.sample(test_data_paths, k=1)[0]\n",
        "\n",
        "# Open the target image\n",
        "image = Image.open(random_image_path)\n",
        "print(f\"[INFO] Predicting on image at path: {random_image_path}\\n\")\n",
        "\n",
        "# Predict on the target image and print out the outputs\n",
        "pred_dict, pred_time = predict(img=image)\n",
        "print(f\"Prediction label and probability dictionary: \\n{pred_dict}\")\n",
        "print(f\"Prediction time: {pred_time} seconds\")"
      ],
      "metadata": {
        "execution": {
          "iopub.status.busy": "2024-06-08T16:53:37.370745Z",
          "iopub.execute_input": "2024-06-08T16:53:37.371012Z",
          "iopub.status.idle": "2024-06-08T16:53:37.613778Z",
          "shell.execute_reply.started": "2024-06-08T16:53:37.370989Z",
          "shell.execute_reply": "2024-06-08T16:53:37.612817Z"
        },
        "trusted": true,
        "id": "Y3HIAaMXyzpA",
        "outputId": "4a05c91b-38f2-4ba5-d1c3-348e6278c7d8",
        "colab": {
          "base_uri": "https://localhost:8080/"
        }
      },
      "execution_count": 24,
      "outputs": [
        {
          "output_type": "stream",
          "name": "stdout",
          "text": [
            "[INFO] Predicting on image at path: ../working/Dataset/test/clove/images52.jpg\n",
            "\n",
            "Prediction label and probability dictionary: \n",
            "{'Cherry': 0.07914454489946365, 'Coffee-plant': 0.07914454489946365, 'Cucumber': 0.07914454489946365, 'Fox_nut(Makhana)': 0.07914454489946365, 'Lemon': 0.07914454489946365, 'Olive-tree': 0.07914454489946365, 'Pearl_millet(bajra)': 0.07914454489946365, 'Tobacco-plant': 0.07914454489946365, 'almond': 0.07914454489946365, 'banana': 0.07914454489946365, 'cardamom': 0.07914454489946365, 'chilli': 0.07914454489946365, 'clove': 0.07914454489946365, 'coconut': 0.07914454489946365, 'cotton': 0.07914454489946365, 'gram': 0.07914454489946365, 'jowar': 0.07914454489946365, 'jute': 0.07914454489946365, 'maize': 0.07914454489946365, 'mustard-oil': 0.07914454489946365, 'papaya': 0.07914454489946365, 'pineapple': 0.07914454489946365, 'rice': 0.07914454489946365, 'soyabean': 0.07914454489946365, 'sugarcane': 0.07914454489946365, 'sunflower': 0.07914454489946365, 'tea': 0.07914454489946365, 'tomato': 0.07914454489946365, 'vigna-radiati(Mung)': 0.07914454489946365, 'wheat': 0.07914454489946365}\n",
            "Prediction time: 0.23337 seconds\n"
          ]
        }
      ]
    },
    {
      "cell_type": "code",
      "source": [
        "# Create a list of example inputs to our Gradio demo\n",
        "example_list = [[str(filepath)] for filepath in random.sample(test_data_paths, k=3)]\n",
        "example_list"
      ],
      "metadata": {
        "execution": {
          "iopub.status.busy": "2024-06-08T16:53:37.614981Z",
          "iopub.execute_input": "2024-06-08T16:53:37.61535Z",
          "iopub.status.idle": "2024-06-08T16:53:37.622256Z",
          "shell.execute_reply.started": "2024-06-08T16:53:37.615324Z",
          "shell.execute_reply": "2024-06-08T16:53:37.621351Z"
        },
        "trusted": true,
        "id": "s_CrB9GDyzpA",
        "outputId": "0b9e0922-9c88-4967-89da-ebde4198a079",
        "colab": {
          "base_uri": "https://localhost:8080/"
        }
      },
      "execution_count": 25,
      "outputs": [
        {
          "output_type": "execute_result",
          "data": {
            "text/plain": [
              "[['../working/Dataset/test/vigna-radiati(Mung)/image (8).jpg'],\n",
              " ['../working/Dataset/test/Coffee-plant/images77.jpg'],\n",
              " ['../working/Dataset/test/Fox_nut(Makhana)/images24.jpg']]"
            ]
          },
          "metadata": {},
          "execution_count": 25
        }
      ]
    },
    {
      "cell_type": "markdown",
      "source": [],
      "metadata": {
        "id": "okJoVVVgyzpA"
      }
    },
    {
      "cell_type": "code",
      "source": [
        "import pathlib\n",
        "import torch\n",
        "\n",
        "from PIL import Image\n",
        "from timeit import default_timer as timer\n",
        "from tqdm.auto import tqdm\n",
        "from typing import List, Dict\n",
        "\n",
        "# 1. Create a function to return a list of dictionaries with sample, truth label, prediction, prediction probability and prediction time\n",
        "def pred_and_store(paths: List[pathlib.Path],\n",
        "                   model: torch.nn.Module,\n",
        "                   transform: torchvision.transforms,\n",
        "                   class_names: List[str],\n",
        "                   device: str = \"cuda\" if torch.cuda.is_available() else \"cpu\") -> List[Dict]:\n",
        "\n",
        "    # 2. Create an empty list to store prediction dictionaires\n",
        "    pred_list = []\n",
        "\n",
        "    # 3. Loop through target paths\n",
        "    for path in tqdm(paths):\n",
        "\n",
        "        # 4. Create empty dictionary to store prediction information for each sample\n",
        "        pred_dict = {}\n",
        "\n",
        "        # 5. Get the sample path and ground truth class name\n",
        "        pred_dict[\"image_path\"] = path\n",
        "        class_name = path.parent.stem\n",
        "        pred_dict[\"class_name\"] = class_name\n",
        "\n",
        "        # 6. Start the prediction timer\n",
        "        start_time = timer()\n",
        "\n",
        "        # 7. Open image path\n",
        "        img = Image.open(path)\n",
        "\n",
        "        # 8. Transform the image, add batch dimension and put image on target device\n",
        "        transformed_image = transform(img).unsqueeze(0).to(device)\n",
        "\n",
        "        # 9. Prepare model for inference by sending it to target device and turning on eval() mode\n",
        "        model.to(device)\n",
        "        model.eval()\n",
        "\n",
        "        # 10. Get prediction probability, predicition label and prediction class\n",
        "        with torch.inference_mode():\n",
        "            pred_logit = model(transformed_image) # perform inference on target sample\n",
        "            pred_prob = torch.softmax(pred_logit, dim=1) # turn logits into prediction probabilities\n",
        "            pred_label = torch.argmax(pred_prob, dim=1) # turn prediction probabilities into prediction label\n",
        "            pred_class = class_names[pred_label.cpu()] # hardcode prediction class to be on CPU\n",
        "\n",
        "            # 11. Make sure things in the dictionary are on CPU (required for inspecting predictions later on)\n",
        "            pred_dict[\"pred_prob\"] = round(pred_prob.unsqueeze(0).max().cpu().item(), 4)\n",
        "            pred_dict[\"pred_class\"] = pred_class\n",
        "\n",
        "            # 12. End the timer and calculate time per pred\n",
        "            end_time = timer()\n",
        "            pred_dict[\"time_for_pred\"] = round(end_time-start_time, 4)\n",
        "\n",
        "        # 13. Does the pred match the true label?\n",
        "        pred_dict[\"correct\"] = class_name == pred_class\n",
        "\n",
        "        # 14. Add the dictionary to the list of preds\n",
        "        pred_list.append(pred_dict)\n",
        "\n",
        "    # 15. Return list of prediction dictionaries\n",
        "    return pred_list"
      ],
      "metadata": {
        "execution": {
          "iopub.status.busy": "2024-06-08T16:56:55.816272Z",
          "iopub.execute_input": "2024-06-08T16:56:55.817329Z",
          "iopub.status.idle": "2024-06-08T16:56:55.829255Z",
          "shell.execute_reply.started": "2024-06-08T16:56:55.817296Z",
          "shell.execute_reply": "2024-06-08T16:56:55.828309Z"
        },
        "trusted": true,
        "id": "Esj07E8hyzpC"
      },
      "execution_count": 26,
      "outputs": []
    },
    {
      "cell_type": "code",
      "source": [
        "# Make predictions across test dataset with EffNetB2\n",
        "effnetb2_test_pred_dicts = pred_and_store(paths=testfilepaths,\n",
        "                                          model=effnetb2,\n",
        "                                          transform=effnetb2_transforms,\n",
        "                                          class_names=class_names,\n",
        "                                          device=\"cpu\") # make predictions on CPU"
      ],
      "metadata": {
        "execution": {
          "iopub.status.busy": "2024-06-08T16:57:00.990593Z",
          "iopub.execute_input": "2024-06-08T16:57:00.990953Z",
          "iopub.status.idle": "2024-06-08T16:57:08.030886Z",
          "shell.execute_reply.started": "2024-06-08T16:57:00.990923Z",
          "shell.execute_reply": "2024-06-08T16:57:08.029849Z"
        },
        "trusted": true,
        "id": "4eKfjQQryzpC",
        "outputId": "bac3a8dd-1b70-4368-825e-15214433bb85",
        "colab": {
          "base_uri": "https://localhost:8080/",
          "height": 49,
          "referenced_widgets": [
            "27d6485572924983aab249471894f83a",
            "9ef9e21dbd014f95a4cc1ff0a96e3343",
            "91ea856ea4304025be2dd28bddd98e9e",
            "a549ee4265364256809b8262e2c9bd29",
            "8da788b7deef4e4484d5a0b989a6df91",
            "78d4f0fcba3f43d0a91e724ad7a27a9d",
            "8916fe228e724caa85f22444728daded",
            "4790c0cc4287401185cef35c117ed739",
            "44c34749e82f401293e5a9d80fcee886",
            "aefc889387aa49849a01d68308810a90",
            "0dae9ba6c9c943d491b9a0617ce2908a"
          ]
        }
      },
      "execution_count": 33,
      "outputs": [
        {
          "output_type": "display_data",
          "data": {
            "text/plain": [
              "  0%|          | 0/70 [00:00<?, ?it/s]"
            ],
            "application/vnd.jupyter.widget-view+json": {
              "version_major": 2,
              "version_minor": 0,
              "model_id": "27d6485572924983aab249471894f83a"
            }
          },
          "metadata": {}
        }
      ]
    },
    {
      "cell_type": "markdown",
      "source": [],
      "metadata": {
        "id": "U4Pf7Q_-yzpC"
      }
    },
    {
      "cell_type": "markdown",
      "source": [],
      "metadata": {
        "id": "UqT_wei4yzpC"
      }
    },
    {
      "cell_type": "code",
      "source": [
        "# Inspect the first 2 prediction dictionaries\n",
        "effnetb2_test_pred_dicts[:2]"
      ],
      "metadata": {
        "execution": {
          "iopub.status.busy": "2024-06-08T16:57:12.394433Z",
          "iopub.execute_input": "2024-06-08T16:57:12.394785Z",
          "iopub.status.idle": "2024-06-08T16:57:12.401338Z",
          "shell.execute_reply.started": "2024-06-08T16:57:12.394759Z",
          "shell.execute_reply": "2024-06-08T16:57:12.400446Z"
        },
        "trusted": true,
        "id": "okvWaM08yzpC",
        "outputId": "3d4a0031-e1d1-44b5-e442-d58e7bb80402",
        "colab": {
          "base_uri": "https://localhost:8080/"
        }
      },
      "execution_count": 34,
      "outputs": [
        {
          "output_type": "execute_result",
          "data": {
            "text/plain": [
              "[{'image_path': PosixPath('../working/Dataset/test/wheat/image (44).jpg'),\n",
              "  'class_name': 'wheat',\n",
              "  'pred_prob': 0.8457,\n",
              "  'pred_class': 'wheat',\n",
              "  'time_for_pred': 0.1444,\n",
              "  'correct': True},\n",
              " {'image_path': PosixPath('../working/Dataset/test/wheat/image (40).jpg'),\n",
              "  'class_name': 'wheat',\n",
              "  'pred_prob': 0.1625,\n",
              "  'pred_class': 'mustard-oil',\n",
              "  'time_for_pred': 0.1097,\n",
              "  'correct': False}]"
            ]
          },
          "metadata": {},
          "execution_count": 34
        }
      ]
    },
    {
      "cell_type": "code",
      "source": [
        "example_list = [[str(filepath)] for filepath in random.sample(test_data_paths, k=3)]\n",
        "example_list"
      ],
      "metadata": {
        "id": "vrcN5M8vyzpC",
        "outputId": "e7446db2-5410-419c-8814-3c3a484182f0",
        "colab": {
          "base_uri": "https://localhost:8080/"
        }
      },
      "execution_count": 30,
      "outputs": [
        {
          "output_type": "execute_result",
          "data": {
            "text/plain": [
              "[['../working/Dataset/test/almond/image (5).jpg'],\n",
              " ['../working/Dataset/test/cardamom/image (5).jpg'],\n",
              " ['../working/Dataset/test/Tobacco-plant/images24.jpg']]"
            ]
          },
          "metadata": {},
          "execution_count": 30
        }
      ]
    },
    {
      "cell_type": "code",
      "source": [
        "import gradio as gr\n",
        "\n",
        "title = \"Agriculture Crops Classification\"\n",
        "description = \" An EfficentNetb2 feature extracto computer vision model to classify images of Agriculture Crops \"\n",
        "article = \"Created from Agri crops image dataset\"\n",
        "\n",
        "demo = gr.Interface(fn=predict,\n",
        "                    inputs= gr.Image(type='pil'),\n",
        "                    outputs=[gr.Label(num_top_classes=50 , label=\"Predictions\"),\n",
        "                          gr.Number(label=\"Prediction time (s)\")],\n",
        "                   examples=example_list,\n",
        "                   title=title,\n",
        "                   description=description,\n",
        "                   article=article)\n",
        "\n",
        "demo.launch(debug=False,\n",
        "           share=True)"
      ],
      "metadata": {
        "id": "d3ofWqDE0M16",
        "outputId": "1b3206c9-a76d-4aa1-bf34-3bd150e94635",
        "colab": {
          "base_uri": "https://localhost:8080/",
          "height": 611
        }
      },
      "execution_count": 31,
      "outputs": [
        {
          "output_type": "stream",
          "name": "stdout",
          "text": [
            "Colab notebook detected. To show errors in colab notebook, set debug=True in launch()\n",
            "Running on public URL: https://82ce6c1c5a6abbf6fb.gradio.live\n",
            "\n",
            "This share link expires in 72 hours. For free permanent hosting and GPU upgrades, run `gradio deploy` from Terminal to deploy to Spaces (https://huggingface.co/spaces)\n"
          ]
        },
        {
          "output_type": "display_data",
          "data": {
            "text/plain": [
              "<IPython.core.display.HTML object>"
            ],
            "text/html": [
              "<div><iframe src=\"https://82ce6c1c5a6abbf6fb.gradio.live\" width=\"100%\" height=\"500\" allow=\"autoplay; camera; microphone; clipboard-read; clipboard-write;\" frameborder=\"0\" allowfullscreen></iframe></div>"
            ]
          },
          "metadata": {}
        },
        {
          "output_type": "execute_result",
          "data": {
            "text/plain": []
          },
          "metadata": {},
          "execution_count": 31
        }
      ]
    },
    {
      "cell_type": "code",
      "source": [
        "# # Create path to Food101 class names\n",
        "# foodvision_big_class_names_path = foodvision_big_demo_path / \"class_names.txt\"\n",
        "\n",
        "# # Write Food101 class names list to file\n",
        "# with open(foodvision_big_class_names_path, \"w\") as f:\n",
        "#     print(f\"[INFO] Saving Food101 class names to {foodvision_big_class_names_path}\")\n",
        "#     f.write(\"\\n\".join(food101_class_names)) # leave a new line between each class"
      ],
      "metadata": {
        "id": "9kK0cV_H0Mvs"
      },
      "execution_count": null,
      "outputs": []
    },
    {
      "cell_type": "code",
      "source": [],
      "metadata": {
        "id": "RXAmIUdV0MrJ"
      },
      "execution_count": null,
      "outputs": []
    },
    {
      "cell_type": "code",
      "source": [],
      "metadata": {
        "id": "3Kv5rUNB0Mmx"
      },
      "execution_count": null,
      "outputs": []
    },
    {
      "cell_type": "code",
      "source": [],
      "metadata": {
        "id": "nxYiufrt0Mio"
      },
      "execution_count": null,
      "outputs": []
    },
    {
      "cell_type": "code",
      "source": [],
      "metadata": {
        "id": "894Y0gp70MfD"
      },
      "execution_count": null,
      "outputs": []
    },
    {
      "cell_type": "code",
      "source": [],
      "metadata": {
        "id": "xUhAIgfv0May"
      },
      "execution_count": null,
      "outputs": []
    }
  ]
}